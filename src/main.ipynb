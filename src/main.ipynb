{
 "cells": [
  {
   "cell_type": "code",
   "execution_count": null,
   "id": "initial_id",
   "metadata": {
    "collapsed": true
   },
   "outputs": [],
   "source": [
    "import warnings\n",
    "warnings.filterwarnings('ignore')"
   ]
  },
  {
   "cell_type": "code",
   "outputs": [],
   "source": [
    "import numpy as np\n",
    "import matplotlib.pyplot as plt\n",
    "\n",
    "from config import *\n",
    "import pandas as pd\n",
    "\n",
    "data = pd.read_csv(DATA_FILE)\n",
    "data"
   ],
   "metadata": {
    "collapsed": false
   },
   "id": "5e9ccee2b5d3125a",
   "execution_count": null
  },
  {
   "cell_type": "code",
   "outputs": [],
   "source": [
    "df = data[['year', 'age_restriction', 'duration', 'imdb_rating', 'imdb_count_scores', 'genres', 'users_count_reviews', 'metascore', 'budget', 'gross_worldwide']]\n",
    "df"
   ],
   "metadata": {
    "collapsed": false
   },
   "id": "9141ebae3f4ca7d",
   "execution_count": null
  },
  {
   "cell_type": "code",
   "outputs": [],
   "source": [
    "df = df.dropna()\n",
    "df"
   ],
   "metadata": {
    "collapsed": false
   },
   "id": "dda3d2f26a165723",
   "execution_count": null
  },
  {
   "cell_type": "code",
   "outputs": [],
   "source": [
    "df = df.astype({\"year\": int})"
   ],
   "metadata": {
    "collapsed": false
   },
   "id": "c3a5666adb9d6e9b",
   "execution_count": null
  },
  {
   "cell_type": "code",
   "outputs": [],
   "source": [
    "import re\n",
    "\n",
    "def time_handle(x: str):\n",
    "    pattern = r\"(\\d+)h (\\d+)m\"\n",
    "    result = re.search(pattern, x)\n",
    "    \n",
    "    if result:\n",
    "        h = int(result.group(1))\n",
    "        m = int(result.group(2))\n",
    "        return h * 60 + m\n",
    "    else:\n",
    "        return None\n",
    "    \n",
    "def number_handle(x: str):\n",
    "    mil_result = re.search(r\"(\\d+)M\", x)\n",
    "    if mil_result:\n",
    "        return int(float(mil_result.group(1)) * 1_000_000)\n",
    "    \n",
    "    k_result = re.search(r\"(\\d+)K\", x)\n",
    "    if k_result:\n",
    "        return int(float(k_result.group(1)) * 1_000)\n",
    "    return int(x)\n",
    "\n",
    "def budget_handle(x: str):\n",
    "    x = x.replace(',', '')\n",
    "    match = re.search(r\"(\\d+)\", x)\n",
    "    return int(match.group(1))\n",
    "\n",
    "\n",
    "df.duration = df.duration.map(time_handle)\n",
    "df.imdb_count_scores = df.imdb_count_scores.map(number_handle)\n",
    "df.users_count_reviews = df.users_count_reviews.map(number_handle)\n",
    "df.budget = df.budget.map(budget_handle)\n",
    "df.gross_worldwide = df.gross_worldwide.map(budget_handle)\n",
    "df.genres = df.genres.map(lambda x: x[2:-2].split(\"', '\"))\n",
    "df"
   ],
   "metadata": {
    "collapsed": false
   },
   "id": "6739f040a6c61c3c",
   "execution_count": null
  },
  {
   "cell_type": "code",
   "outputs": [],
   "source": [
    "df.info()"
   ],
   "metadata": {
    "collapsed": false
   },
   "id": "402df5e01f23d0b7",
   "execution_count": null
  },
  {
   "cell_type": "code",
   "outputs": [],
   "source": [
    "cont_col = ['year', 'duration', 'imdb_rating', 'imdb_count_scores', 'users_count_reviews', 'metascore', 'budget']"
   ],
   "metadata": {
    "collapsed": false
   },
   "id": "82d7537b8908f7f4",
   "execution_count": null
  },
  {
   "cell_type": "code",
   "outputs": [],
   "source": [
    "from sklearn.preprocessing import StandardScaler\n",
    "df[cont_col] = StandardScaler().fit_transform(df[cont_col])\n",
    "df"
   ],
   "metadata": {
    "collapsed": false
   },
   "id": "f26b62d8f30b7aed",
   "execution_count": null
  },
  {
   "cell_type": "code",
   "outputs": [],
   "source": [
    "df = df.reset_index()\n",
    "df = df.drop('index', axis=1)"
   ],
   "metadata": {
    "collapsed": false
   },
   "id": "f34839f4d804fc7d",
   "execution_count": null
  },
  {
   "cell_type": "code",
   "outputs": [],
   "source": [
    "from sklearn.preprocessing import MultiLabelBinarizer\n",
    "mlb = MultiLabelBinarizer()\n",
    "\n",
    "genres_one_hot = mlb.fit_transform(df.pop('genres'))\n",
    "df = pd.concat([df, pd.DataFrame(genres_one_hot, columns=mlb.classes_)], axis=1)\n",
    "df"
   ],
   "metadata": {
    "collapsed": false
   },
   "id": "d3f2b3b7c3f9bc92",
   "execution_count": null
  },
  {
   "cell_type": "code",
   "outputs": [],
   "source": [
    "from sklearn.preprocessing import OneHotEncoder\n",
    "\n",
    "onehotencoder = OneHotEncoder(categories='auto', sparse_output=False)\n",
    "df_new = onehotencoder.fit_transform(np.array(df['age_restriction']).reshape(-1, 1))\n",
    "cat = onehotencoder.categories_\n",
    "df = df.drop(columns=['age_restriction'])\n",
    "df = pd.concat([df, pd.DataFrame(df_new, columns=cat[0])], axis=1)\n",
    "\n",
    "df"
   ],
   "metadata": {
    "collapsed": false
   },
   "id": "b02c172b6adcc538",
   "execution_count": null
  },
  {
   "cell_type": "code",
   "outputs": [],
   "source": [
    "df['duration'] = df['duration'].fillna(df['duration'].dropna().mean())"
   ],
   "metadata": {
    "collapsed": false
   },
   "id": "5282b2930aacaf28",
   "execution_count": null
  },
  {
   "cell_type": "code",
   "outputs": [],
   "source": [
    "X = df.drop(columns=['gross_worldwide'])\n",
    "Y = df['gross_worldwide']"
   ],
   "metadata": {
    "collapsed": false
   },
   "id": "d078ef0a07658399",
   "execution_count": null
  },
  {
   "cell_type": "code",
   "outputs": [],
   "source": [
    "from sklearn.model_selection import train_test_split\n",
    "\n",
    "XX, X_test, YY, Y_test = train_test_split(X, Y, test_size=0.2, train_size=0.8)\n",
    "X_train, X_val, Y_train, Y_val = train_test_split(XX, YY, test_size = 0.2, train_size =0.8)"
   ],
   "metadata": {
    "collapsed": false
   },
   "id": "1cfad089ea1ceafd",
   "execution_count": null
  },
  {
   "cell_type": "code",
   "outputs": [],
   "source": [
    "from sklearn.metrics import mean_squared_error as mse\n",
    "\n",
    "from sklearn.neighbors import KNeighborsRegressor\n",
    "\n",
    "coeffs = list(range(1, 50, 5))\n",
    "err_train = []\n",
    "err_val = []\n",
    "err_test = []\n",
    "for c in coeffs:\n",
    "    knn_regressor = KNeighborsRegressor(n_neighbors=c)\n",
    "    knn_regressor.fit(X_train, Y_train)\n",
    "    train_predict = knn_regressor.predict(X_train)\n",
    "    val_predict = knn_regressor.predict(X_val)\n",
    "    test_predict = knn_regressor.predict(X_test)\n",
    "    \n",
    "    err_train.append(mse(train_predict, Y_train, squared=False))\n",
    "    err_val.append(mse(val_predict, Y_val, squared=False))\n",
    "    err_test.append(mse(test_predict, Y_test, squared=False))"
   ],
   "metadata": {
    "collapsed": false
   },
   "id": "ff2c5984e491147c",
   "execution_count": null
  },
  {
   "cell_type": "code",
   "outputs": [],
   "source": [
    "plt.plot(coeffs, err_train, label='train data')\n",
    "plt.plot(coeffs, err_val, label='valid data')\n",
    "plt.plot(coeffs, err_test, label='test data')\n",
    "plt.legend()\n",
    "plt.show()"
   ],
   "metadata": {
    "collapsed": false
   },
   "id": "2281c6a127812a22",
   "execution_count": null
  },
  {
   "cell_type": "code",
   "outputs": [],
   "source": [
    "from sklearn.linear_model import Lasso\n",
    "\n",
    "coeffs = list(range(0, 50))\n",
    "err_train = []\n",
    "err_val = []\n",
    "err_test = []\n",
    "for c in coeffs:\n",
    "    lasso = Lasso(alpha=c / 10)\n",
    "    lasso.fit(X_train, Y_train)\n",
    "    train_predict = lasso.predict(X_train)\n",
    "    val_predict = lasso.predict(X_val)\n",
    "    test_predict = lasso.predict(X_test)\n",
    "    \n",
    "    err_train.append(mse(train_predict, Y_train, squared=False))\n",
    "    err_val.append(mse(val_predict, Y_val, squared=False))\n",
    "    err_test.append(mse(test_predict, Y_test, squared=False))"
   ],
   "metadata": {
    "collapsed": false
   },
   "id": "2815562a5aa8de52",
   "execution_count": null
  },
  {
   "cell_type": "code",
   "outputs": [],
   "source": [
    "plt.plot(np.array(coeffs) / 10, err_train, label='train data')\n",
    "plt.plot(np.array(coeffs) / 10, err_val, label='valid data')\n",
    "plt.plot(np.array(coeffs) / 10, err_test, label='test data')\n",
    "plt.legend()\n",
    "plt.show()"
   ],
   "metadata": {
    "collapsed": false
   },
   "id": "ec818a665e706bcc",
   "execution_count": null
  },
  {
   "cell_type": "code",
   "outputs": [],
   "source": [
    "from sklearn.tree import DecisionTreeRegressor\n",
    "\n",
    "coeffs = list(range(1, 50))\n",
    "err_train = []\n",
    "err_val = []\n",
    "err_test = []\n",
    "for c in coeffs:\n",
    "    tree = DecisionTreeRegressor(max_depth=c)\n",
    "    tree.fit(X_train, Y_train)\n",
    "    err_train.append(mse(tree.predict(X_train), Y_train, squared=False))\n",
    "    err_val.append(mse(tree.predict(X_val), Y_val, squared=False))\n",
    "    err_test.append(mse(tree.predict(X_test), Y_test, squared=False))"
   ],
   "metadata": {
    "collapsed": false
   },
   "id": "265277de51a05921",
   "execution_count": null
  },
  {
   "cell_type": "code",
   "outputs": [],
   "source": [
    "plt.plot(coeffs, err_train, label='train data')\n",
    "plt.plot(coeffs, err_val, label='valid data')\n",
    "plt.plot(coeffs, err_test, label='test data')\n",
    "plt.legend()\n",
    "plt.show()"
   ],
   "metadata": {
    "collapsed": false
   },
   "id": "4ef8f789b2e3c14c",
   "execution_count": null
  },
  {
   "cell_type": "code",
   "outputs": [],
   "source": [
    "from sklearn.ensemble import RandomForestRegressor\n",
    "\n",
    "coeffs = list(range(1, 50))\n",
    "err_train = []\n",
    "err_val = []\n",
    "err_test = []\n",
    "for c in coeffs:\n",
    "    forest = RandomForestRegressor(n_estimators=c)\n",
    "    forest.fit(X_train, Y_train)\n",
    "    err_train.append(mse(forest.predict(X_train), Y_train, squared=False))\n",
    "    err_val.append(mse(forest.predict(X_val), Y_val, squared=False))\n",
    "    err_test.append(mse(forest.predict(X_test), Y_test, squared=False))"
   ],
   "metadata": {
    "collapsed": false
   },
   "id": "751c98c9c3373934",
   "execution_count": null
  },
  {
   "cell_type": "code",
   "outputs": [],
   "source": [
    "plt.plot(coeffs, err_train, label='train data')\n",
    "plt.plot(coeffs, err_val, label='valid data')\n",
    "plt.plot(coeffs, err_test, label='test data')\n",
    "plt.legend()\n",
    "plt.show()"
   ],
   "metadata": {
    "collapsed": false
   },
   "id": "12029742795bfc7c",
   "execution_count": null
  }
 ],
 "metadata": {
  "kernelspec": {
   "display_name": "Python 3",
   "language": "python",
   "name": "python3"
  },
  "language_info": {
   "codemirror_mode": {
    "name": "ipython",
    "version": 2
   },
   "file_extension": ".py",
   "mimetype": "text/x-python",
   "name": "python",
   "nbconvert_exporter": "python",
   "pygments_lexer": "ipython2",
   "version": "2.7.6"
  }
 },
 "nbformat": 4,
 "nbformat_minor": 5
}
